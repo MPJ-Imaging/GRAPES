{
 "cells": [
  {
   "cell_type": "markdown",
   "id": "1af6a600",
   "metadata": {},
   "source": [
    "# GRAPES Toolkit — Example 1\n",
    "\n",
    "This notebook demonstrates a minimal end‑to‑end workflow with **GRAPES**:\n",
    "\n",
    "1) Load a 3D XCT intensity volume and a corresponding label volume.\n",
    "2) Visualize representative slices.\n",
    "3) Build a GRAPES particle table (Pandas DataFrame).\n",
    "4) Explore radial properties and intensity profiles.\n",
    "5) Render a simple property map back into image space.\n",
    "\n",
    "> **Data**: expects `example_image.tif` and `example_labels.tif` in the project root (or run this from the `examples/` folder).\n"
   ]
  },
  {
   "cell_type": "markdown",
   "id": "00f0ab02",
   "metadata": {},
   "source": [
    "## 0. Environment setup\n",
    "Make sure we can import local utilities regardless of whether the notebook is run from the repo root or from the `examples/` folder."
   ]
  },
  {
   "cell_type": "code",
   "execution_count": null,
   "id": "28e53562",
   "metadata": {},
   "outputs": [],
   "source": [
    "# Standard path setup to allow local imports when launched from repo root or examples/\n",
    "import os, sys\n",
    "CWD = os.getcwd()\n",
    "if os.path.basename(CWD) == \"examples\":\n",
    "    PROJECT_ROOT = os.path.abspath(os.path.join(CWD, \"..\"))\n",
    "else:\n",
    "    PROJECT_ROOT = CWD  # fallback if already at root\n",
    "os.chdir(PROJECT_ROOT)\n",
    "sys.path.append(os.path.join(PROJECT_ROOT, \"utils\"))"
   ]
  },
  {
   "cell_type": "markdown",
   "id": "928f1b9c",
   "metadata": {},
   "source": [
    "## 1. Imports"
   ]
  },
  {
   "cell_type": "code",
   "execution_count": null,
   "id": "27e776a9",
   "metadata": {},
   "outputs": [],
   "source": [
    "import tifffile as tiff\n",
    "import matplotlib.pyplot as plt\n",
    "import pandas as pd\n",
    "import GRAPES as gp  # core toolkit\n",
    "\n",
    "# Optional: enable interactive plotting in supported environments\n",
    "%matplotlib widget  # uncomment in JupyterLab if you want pan/zoom widgets"
   ]
  },
  {
   "cell_type": "markdown",
   "id": "4766c04d",
   "metadata": {},
   "source": [
    "## 2. Load data\n",
    "Read the 3D intensity image and its corresponding labeled segmentation volume."
   ]
  },
  {
   "cell_type": "code",
   "execution_count": null,
   "id": "895bf09f",
   "metadata": {},
   "outputs": [],
   "source": [
    "# File paths (edit if your files live elsewhere)\n",
    "INTENSITY_PATH = 'examples_data/example_image.tif'\n",
    "LABELS_PATH = 'examples_data/example_labels.tif'\n",
    "\n",
    "# Load images (3D)\n",
    "intensity_image = tiff.imread(INTENSITY_PATH)\n",
    "labels_image = tiff.imread(LABELS_PATH)\n",
    "\n",
    "print(f\"Intensity shape: {getattr(intensity_image, 'shape', None)}  |  Labels shape: {getattr(labels_image, 'shape', None)}\")"
   ]
  },
  {
   "cell_type": "markdown",
   "id": "f2d270f8",
   "metadata": {},
   "source": [
    "## 3. Quick look at a central slice\n",
    "Plot a representative axial slice from both volumes."
   ]
  },
  {
   "cell_type": "code",
   "execution_count": null,
   "id": "c1fee6be",
   "metadata": {},
   "outputs": [],
   "source": [
    "# Choose a slice index to visualize (middle slice by default)\n",
    "SLICE_IDX = intensity_image.shape[0] // 2 if hasattr(intensity_image, 'shape') else 80\n",
    "\n",
    "plt.figure(figsize=(10, 5))\n",
    "plt.subplot(1, 2, 1)\n",
    "plt.imshow(intensity_image[SLICE_IDX], cmap='gray')\n",
    "plt.title(f'Intensity Image (slice {SLICE_IDX})')\n",
    "plt.axis('off')\n",
    "\n",
    "plt.subplot(1, 2, 2)\n",
    "plt.imshow(labels_image[SLICE_IDX], cmap='jet', interpolation='none')\n",
    "plt.title(f'Labels Image (slice {SLICE_IDX})')\n",
    "plt.axis('off')\n",
    "\n",
    "plt.tight_layout()\n",
    "plt.show()"
   ]
  },
  {
   "cell_type": "markdown",
   "id": "7bcc38e5",
   "metadata": {},
   "source": [
    "> The left panel shows the intensity slice of cracked particles from the XCT volume. The right panel shows the segmented labels for the three particles to be analyzed."
   ]
  },
  {
   "cell_type": "markdown",
   "id": "5a60861b",
   "metadata": {},
   "source": [
    "## 4. Build the GRAPES particle table\n",
    "Create a Pandas DataFrame containing per‑particle measurements and radial‑layer statistics."
   ]
  },
  {
   "cell_type": "code",
   "execution_count": null,
   "id": "20e0380a",
   "metadata": {},
   "outputs": [],
   "source": [
    "# Create the particle table; see help(gp.GRAPES) for available parameters/outputs\n",
    "particle_df = gp.GRAPES(labels_image, intensity_image)\n",
    "print(f\"Particles detected: {len(particle_df) if hasattr(particle_df, '__len__') else 'unknown'}\")"
   ]
  },
  {
   "cell_type": "markdown",
   "id": "1075d05c",
   "metadata": {},
   "source": [
    "### Peek at the schema"
   ]
  },
  {
   "cell_type": "code",
   "execution_count": null,
   "id": "0d248ef4",
   "metadata": {},
   "outputs": [],
   "source": [
    "particle_df.head()"
   ]
  },
  {
   "cell_type": "markdown",
   "id": "884bf5dc",
   "metadata": {},
   "source": [
    "### API reference (concise)\n",
    "Use `help(gp.GRAPES)` to view function arguments and a summary of outputs."
   ]
  },
  {
   "cell_type": "code",
   "execution_count": null,
   "id": "5c23fe24",
   "metadata": {},
   "outputs": [],
   "source": [
    "help(gp.GRAPES)"
   ]
  },
  {
   "cell_type": "markdown",
   "id": "7736de4d",
   "metadata": {},
   "source": [
    "## 5. Visualize radial information\n",
    "Plot a distance‑transform (radial layer) view for a selected particle, then plot radial intensity profiles for all particles."
   ]
  },
  {
   "cell_type": "code",
   "execution_count": null,
   "id": "e3097ace",
   "metadata": {},
   "outputs": [],
   "source": [
    "# Plot radial layers as an image for a single particle (edit label as needed)\n",
    "plot = gp.plot_particle_image(particle_df, label=3, image_type='distance_transform')"
   ]
  },
  {
   "cell_type": "code",
   "execution_count": null,
   "id": "b433e2a0",
   "metadata": {},
   "outputs": [],
   "source": [
    "# Plot radial intensity profiles for each particle\n",
    "for i in particle_df['label']:\n",
    "    gp.plot_radial_intensities(particle_df, i)"
   ]
  },
  {
   "cell_type": "markdown",
   "id": "b13c8328",
   "metadata": {},
   "source": [
    "> In each particle we observe a drop in grey‑level towards the center of the particle, suggesting higher crack and void formation in central regions."
   ]
  },
  {
   "cell_type": "markdown",
   "id": "4a6e08dd",
   "metadata": {},
   "source": [
    "## 6. Map a property back to image space\n",
    "Render a per‑particle property (here: `intensity_min`) into a volume aligned with the label image. This produces a quick‑look property map."
   ]
  },
  {
   "cell_type": "code",
   "execution_count": null,
   "id": "6b766f1b",
   "metadata": {},
   "outputs": [],
   "source": [
    "# Create an image where each labeled voxel is assigned the particle's chosen property\n",
    "min_i_arr = gp.prop_2_image(labels_image, particle_df, prop='intensity_min')\n",
    "\n",
    "# Visualize the same slice as above\n",
    "plt.figure(figsize=(5, 5))\n",
    "plt.imshow(min_i_arr[SLICE_IDX], interpolation='none')\n",
    "plt.title(f\"Particle Property Map: intensity_min (slice {SLICE_IDX})\")\n",
    "plt.axis('off')\n",
    "plt.tight_layout()\n",
    "plt.show()"
   ]
  },
  {
   "cell_type": "markdown",
   "id": "44b20309",
   "metadata": {},
   "source": [
    "## 7. Next steps\n",
    "- Try other properties with `prop_2_image`, e.g., `intensity_mean`, `intensity_std`, or custom metrics.\n",
    "- Use `plot_particle_image(..., image_type='radial_layers')` (if available in your version) to visualize computed layers.\n",
    "- Save the `particle_df` to CSV for downstream analysis: `particle_df.to_csv('particle_table.csv', index=False)`.\n"
   ]
  }
 ],
 "metadata": {
  "kernelspec": {
   "display_name": "Python 3",
   "language": "python",
   "name": "python3"
  },
  "language_info": {
   "codemirror_mode": {
    "name": "ipython",
    "version": 3
   },
   "file_extension": ".py",
   "mimetype": "text/x-python",
   "name": "python",
   "nbconvert_exporter": "python",
   "pygments_lexer": "ipython3",
   "version": "3.10.12"
  }
 },
 "nbformat": 4,
 "nbformat_minor": 5
}
